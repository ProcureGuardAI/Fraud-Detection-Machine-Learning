{
 "cells": [
  {
   "cell_type": "markdown",
   "metadata": {},
   "source": [
    "# Mpesa Fraud-Detection"
   ]
  },
  {
   "cell_type": "markdown",
   "metadata": {},
   "source": [
    "## 1. Business Understanding"
   ]
  },
  {
   "cell_type": "markdown",
   "metadata": {},
   "source": [
    "### Business Overview"
   ]
  },
  {
   "cell_type": "markdown",
   "metadata": {},
   "source": [
    "The system is designed to flag potential shell companies by analyzing various data sources, including financial transactions, beneficial ownership, company registration, and payroll records. It leverages machine learning, natural language processing, and network analysis to detect fraud patterns and suspicious behavior. The system provides insights into recurring vendor and employee issues, fraud behaviors, and high-risk transactions. These insights help investigation teams take actions like launching audits, conducting legal proceedings, and improving internal controls to mitigate financial and compliance risks."
   ]
  },
  {
   "cell_type": "markdown",
   "metadata": {},
   "source": [
    "### 1.1 Problem Statement"
   ]
  },
  {
   "cell_type": "markdown",
   "metadata": {},
   "source": [
    "Shell companies are often used for illicit activities such as money laundering, tax evasion, and fraud. Detecting these entities requires analyzing complex financial patterns and ownership structures, making it challenging for organizations to identify and mitigate fraud risks efficiently."
   ]
  },
  {
   "cell_type": "markdown",
   "metadata": {},
   "source": [
    "### 1.2 Proposed Solutions"
   ]
  },
  {
   "cell_type": "markdown",
   "metadata": {},
   "source": [
    "- Officials collaborating with contractors to manipulate the bidding process\n",
    "- Artificially inflated prices for goods and services\n",
    "- Contracts awarded at prices significantly above market rates\n",
    "Shell Companies and Fraudulent Vendors\n",
    "Use of fake or shell companies to win contracts\n",
    "Lack of proper vetting for new or suspicious vendors\n"
   ]
  },
  {
   "cell_type": "markdown",
   "metadata": {},
   "source": [
    "### 1.3 Objectives"
   ]
  },
  {
   "cell_type": "markdown",
   "metadata": {},
   "source": [
    "- Detect and flag potential shell companies based on financial transactions and ownership structures.\n",
    "- Analyze complex patterns such as circular transactions, ownership layering, and high-risk jurisdictions.\n",
    "- Provide real-time alerts on suspicious activities like sudden fund transfers and unusual vendor relationships.\n",
    "- Deliver actionable insights to investigation teams, including recurring fraud behaviors and high-risk entities.\n",
    "- Support decision-making for audits, legal proceedings, and risk mitigation strategies.\n",
    "Enhance compliance with anti-money laundering (AML) regulations by identifying non-compliant companies."
   ]
  },
  {
   "cell_type": "markdown",
   "metadata": {},
   "source": [
    "### 1.4 Metrics of Success"
   ]
  },
  {
   "cell_type": "markdown",
   "metadata": {},
   "source": [
    "Accuracy = 80%\n",
    "Recall = 80%"
   ]
  },
  {
   "cell_type": "markdown",
   "metadata": {},
   "source": [
    "### 1.5 StakeHolders"
   ]
  },
  {
   "cell_type": "markdown",
   "metadata": {},
   "source": [
    "1. Government Agencies: Entities responsible for regulating financial activities, tax compliance, and public procurement (e.g., anti-fraud units, tax authorities, anti-money laundering bodies).\n",
    "\n",
    "2. Financial Institutions: Banks, payment processors, and other financial service providers that monitor transactions for fraud and ensure compliance with AML regulations.\n",
    "\n",
    "3. Corporate Compliance Teams: Internal teams within corporations tasked with ensuring regulatory compliance, identifying fraud risks, and mitigating legal exposure.\n",
    "\n",
    "4. Auditors and Legal Investigators: Professionals who will use insights from the system to launch audits, investigate fraudulent activities, and initiate legal actions against shell companies.\n",
    "\n",
    "5. Law Enforcement: Police and specialized financial crime units that handle cases of fraud, money laundering, and other criminal activities related to shell companies.\n",
    "\n",
    "6. Regulatory Bodies: Organizations overseeing corporate governance, financial compliance, and anti-corruption efforts that would benefit from insights and recommendations provided by the system.\n",
    "\n",
    "7. Internal Risk Management Teams: Departments within businesses that focus on identifying and managing financial and compliance risks, using the system to prevent and detect fraudulent activities.\n",
    "\n",
    "8. Technology and Data Science Teams: Teams responsible for implementing and maintaining the fraud detection system, including data scientists, machine learning engineers, and IT personnel.\n",
    "\n",
    "9. Policy Makers: Government officials who might use the insights from the system to propose reforms or stricter regulations around shell companies and financial fraud.\n",
    "\n",
    "10. External Audit Firms: Independent audit firms hired by organizations to conduct financial audits and compliance checks based on the data and patterns identified by the system."
   ]
  },
  {
   "cell_type": "markdown",
   "metadata": {},
   "source": [
    "### 1.6 Constraints"
   ]
  },
  {
   "cell_type": "markdown",
   "metadata": {},
   "source": [
    "- Access to real-world, high-quality financial, transactional, and ownership data is limited due to privacy regulations, lack of transparency, or restricted access to government databases.\n",
    "- Incomplete, outdated, or inaccurate data may impact the effectiveness of machine learning models and the overall fraud detection system.\n",
    "- Balancing model precision is challenging, as too many false positives may overwhelm investigating teams, while too few could miss critical fraud cases.\n",
    "- Developing, testing, and refining a fully functional system within a limited timeline may restrict the scope of the project or delay advanced features like NLP or network analysis.\n",
    "-  Ensuring the security of sensitive financial data and preventing breaches or unauthorized access could add complexity to the system’s design and implementation."
   ]
  },
  {
   "cell_type": "markdown",
   "metadata": {},
   "source": [
    "## 2.  Data Understanding"
   ]
  },
  {
   "cell_type": "markdown",
   "metadata": {},
   "source": [
    "### 2.1 Data Collection"
   ]
  },
  {
   "cell_type": "markdown",
   "metadata": {},
   "source": [
    "**Data sources**: \n",
    "\n",
    "Identify and collect relevant \n",
    "data from various sources, like historical fraud \n",
    "records, customer information and transaction \n",
    "data. Our major sources were Kaggle and \n",
    "github repositories."
   ]
  },
  {
   "cell_type": "markdown",
   "metadata": {},
   "source": [
    "#### Column Decsription of The data"
   ]
  },
  {
   "cell_type": "markdown",
   "metadata": {},
   "source": [
    "- step: The time step of the transaction.\n",
    "- type: The type of transaction (e.g., PAYMENT, TRANSFER, CASH_OUT).\n",
    "- amount: The transaction amount.\n",
    "- nameOrig: The originator's account ID.\n",
    "- oldbalanceOrg: The old balance of the originator before the transaction.\n",
    "- newbalanceOrig: The new balance of the originator after the transaction.\n",
    "- nameDest: The destination account ID.\n",
    "- oldbalanceDest: The old balance of the destination before the transaction.\n",
    "- newbalanceDest: The new balance of the destination after the transaction.\n",
    "- isFraud: A binary indicator (0 or 1) showing whether the transaction is fraudulent.\n",
    "- isFlaggedFraud: A binary indicator for flagged fraudulent transactions."
   ]
  },
  {
   "cell_type": "code",
   "execution_count": 1,
   "metadata": {},
   "outputs": [],
   "source": [
    "# Import necessary Libraries\n",
    "import pandas as pd\n",
    "import numpy as np\n",
    "import matplotlib.pyplot as plt\n"
   ]
  },
  {
   "cell_type": "code",
   "execution_count": 2,
   "metadata": {},
   "outputs": [
    {
     "data": {
      "text/html": [
       "<div>\n",
       "<style scoped>\n",
       "    .dataframe tbody tr th:only-of-type {\n",
       "        vertical-align: middle;\n",
       "    }\n",
       "\n",
       "    .dataframe tbody tr th {\n",
       "        vertical-align: top;\n",
       "    }\n",
       "\n",
       "    .dataframe thead th {\n",
       "        text-align: right;\n",
       "    }\n",
       "</style>\n",
       "<table border=\"1\" class=\"dataframe\">\n",
       "  <thead>\n",
       "    <tr style=\"text-align: right;\">\n",
       "      <th></th>\n",
       "      <th>Contract Number</th>\n",
       "      <th>Amount</th>\n",
       "      <th>Award Date</th>\n",
       "      <th>Tender Title</th>\n",
       "      <th>Eval Completion Date</th>\n",
       "      <th>Notification Of Award Date</th>\n",
       "      <th>Sign Date</th>\n",
       "      <th>Start Date</th>\n",
       "      <th>End Date</th>\n",
       "      <th>Agpo Certificate Number</th>\n",
       "      <th>Awarded Agpo Group Id</th>\n",
       "      <th>Created By</th>\n",
       "      <th>Terminated</th>\n",
       "      <th>Financial Year</th>\n",
       "      <th>Quarter</th>\n",
       "      <th>Tender Ref.</th>\n",
       "      <th>PE Name</th>\n",
       "      <th>Supplier Name</th>\n",
       "      <th>No. of B.O.I</th>\n",
       "      <th>Created At</th>\n",
       "    </tr>\n",
       "  </thead>\n",
       "  <tbody>\n",
       "    <tr>\n",
       "      <th>0</th>\n",
       "      <td>0015.1</td>\n",
       "      <td>1962488.0</td>\n",
       "      <td>2018-09-26</td>\n",
       "      <td>Supply of Non Pharmaceuticals (Surgical Tubes,...</td>\n",
       "      <td>2018-09-25</td>\n",
       "      <td>2018-09-26</td>\n",
       "      <td>2018-09-26</td>\n",
       "      <td>2018-09-26</td>\n",
       "      <td>2018-10-25</td>\n",
       "      <td>NaN</td>\n",
       "      <td>NaN</td>\n",
       "      <td>1</td>\n",
       "      <td>NaN</td>\n",
       "      <td>2018/2019</td>\n",
       "      <td>Q1</td>\n",
       "      <td>KEMSA/ONT 06/2017-2019</td>\n",
       "      <td>Higher Education Loan Board</td>\n",
       "      <td>VIABLE DECO SOLUTIONS LIMITED</td>\n",
       "      <td>NaN</td>\n",
       "      <td>2019-01-31 09:55:20</td>\n",
       "    </tr>\n",
       "    <tr>\n",
       "      <th>1</th>\n",
       "      <td>38632</td>\n",
       "      <td>257736.0</td>\n",
       "      <td>2018-10-02</td>\n",
       "      <td>Supply of Non Pharmaceuticals (Surgical Tubes,...</td>\n",
       "      <td>2018-09-25</td>\n",
       "      <td>2018-10-04</td>\n",
       "      <td>2018-10-05</td>\n",
       "      <td>2018-10-08</td>\n",
       "      <td>2018-10-23</td>\n",
       "      <td>NaN</td>\n",
       "      <td>NaN</td>\n",
       "      <td>1</td>\n",
       "      <td>NaN</td>\n",
       "      <td>2018/2019</td>\n",
       "      <td>Q2</td>\n",
       "      <td>KEMSA/ONT 06/2017-2019</td>\n",
       "      <td>Kenya Post Office Saving Bank</td>\n",
       "      <td>COMPUTERWAYS LIMITED</td>\n",
       "      <td>NaN</td>\n",
       "      <td>2019-02-19 10:14:13</td>\n",
       "    </tr>\n",
       "    <tr>\n",
       "      <th>2</th>\n",
       "      <td>38631</td>\n",
       "      <td>254736.0</td>\n",
       "      <td>2018-09-25</td>\n",
       "      <td>Supply of Non Pharmaceuticals (Surgical Tubes,...</td>\n",
       "      <td>2018-09-19</td>\n",
       "      <td>2018-10-02</td>\n",
       "      <td>2018-10-05</td>\n",
       "      <td>2018-10-12</td>\n",
       "      <td>2018-11-12</td>\n",
       "      <td>NaN</td>\n",
       "      <td>NaN</td>\n",
       "      <td>1</td>\n",
       "      <td>NaN</td>\n",
       "      <td>2018/2019</td>\n",
       "      <td>Q1</td>\n",
       "      <td>KEMSA/ONT 06/2017-2019</td>\n",
       "      <td>Kenya Post Office Saving Bank</td>\n",
       "      <td>REALISTIC SYSTEMS AND TECHNOLOGIES</td>\n",
       "      <td>NaN</td>\n",
       "      <td>2019-02-27 14:28:26</td>\n",
       "    </tr>\n",
       "    <tr>\n",
       "      <th>3</th>\n",
       "      <td>0189</td>\n",
       "      <td>149300.0</td>\n",
       "      <td>2019-02-19</td>\n",
       "      <td>Supply of Non Pharmaceuticals (Surgical Tubes,...</td>\n",
       "      <td>2019-01-15</td>\n",
       "      <td>2019-02-07</td>\n",
       "      <td>2019-02-11</td>\n",
       "      <td>2019-02-11</td>\n",
       "      <td>2019-03-11</td>\n",
       "      <td>NaN</td>\n",
       "      <td>NaN</td>\n",
       "      <td>1</td>\n",
       "      <td>NaN</td>\n",
       "      <td>2018/2019</td>\n",
       "      <td>Q3</td>\n",
       "      <td>KEMSA/ONT 06/2017-2019</td>\n",
       "      <td>Embu</td>\n",
       "      <td>JIMRIVER CARGO LOGISTICS LIMITED</td>\n",
       "      <td>NaN</td>\n",
       "      <td>2019-03-15 10:03:54</td>\n",
       "    </tr>\n",
       "    <tr>\n",
       "      <th>4</th>\n",
       "      <td>LPO 1079.</td>\n",
       "      <td>81500.0</td>\n",
       "      <td>2018-12-27</td>\n",
       "      <td>Supply of Non Pharmaceuticals (Surgical Tubes,...</td>\n",
       "      <td>2018-12-27</td>\n",
       "      <td>2018-12-27</td>\n",
       "      <td>2018-12-27</td>\n",
       "      <td>2018-12-27</td>\n",
       "      <td>2019-01-26</td>\n",
       "      <td>NaN</td>\n",
       "      <td>NaN</td>\n",
       "      <td>1</td>\n",
       "      <td>NaN</td>\n",
       "      <td>2018/2019</td>\n",
       "      <td>Q2</td>\n",
       "      <td>KEMSA/ONT 06/2017-2019</td>\n",
       "      <td>Higher Education Loan Board</td>\n",
       "      <td>MATKY INVESTMENTS</td>\n",
       "      <td>NaN</td>\n",
       "      <td>2019-03-17 18:11:54</td>\n",
       "    </tr>\n",
       "  </tbody>\n",
       "</table>\n",
       "</div>"
      ],
      "text/plain": [
       "  Contract Number     Amount  Award Date  \\\n",
       "0          0015.1  1962488.0  2018-09-26   \n",
       "1           38632   257736.0  2018-10-02   \n",
       "2           38631   254736.0  2018-09-25   \n",
       "3            0189   149300.0  2019-02-19   \n",
       "4       LPO 1079.    81500.0  2018-12-27   \n",
       "\n",
       "                                        Tender Title Eval Completion Date  \\\n",
       "0  Supply of Non Pharmaceuticals (Surgical Tubes,...           2018-09-25   \n",
       "1  Supply of Non Pharmaceuticals (Surgical Tubes,...           2018-09-25   \n",
       "2  Supply of Non Pharmaceuticals (Surgical Tubes,...           2018-09-19   \n",
       "3  Supply of Non Pharmaceuticals (Surgical Tubes,...           2019-01-15   \n",
       "4  Supply of Non Pharmaceuticals (Surgical Tubes,...           2018-12-27   \n",
       "\n",
       "  Notification Of Award Date   Sign Date  Start Date    End Date  \\\n",
       "0                 2018-09-26  2018-09-26  2018-09-26  2018-10-25   \n",
       "1                 2018-10-04  2018-10-05  2018-10-08  2018-10-23   \n",
       "2                 2018-10-02  2018-10-05  2018-10-12  2018-11-12   \n",
       "3                 2019-02-07  2019-02-11  2019-02-11  2019-03-11   \n",
       "4                 2018-12-27  2018-12-27  2018-12-27  2019-01-26   \n",
       "\n",
       "  Agpo Certificate Number Awarded Agpo Group Id  Created By  Terminated  \\\n",
       "0                     NaN                   NaN           1         NaN   \n",
       "1                     NaN                   NaN           1         NaN   \n",
       "2                     NaN                   NaN           1         NaN   \n",
       "3                     NaN                   NaN           1         NaN   \n",
       "4                     NaN                   NaN           1         NaN   \n",
       "\n",
       "  Financial Year Quarter             Tender Ref.  \\\n",
       "0      2018/2019      Q1  KEMSA/ONT 06/2017-2019   \n",
       "1      2018/2019      Q2  KEMSA/ONT 06/2017-2019   \n",
       "2      2018/2019      Q1  KEMSA/ONT 06/2017-2019   \n",
       "3      2018/2019      Q3  KEMSA/ONT 06/2017-2019   \n",
       "4      2018/2019      Q2  KEMSA/ONT 06/2017-2019   \n",
       "\n",
       "                         PE Name                       Supplier Name  \\\n",
       "0    Higher Education Loan Board       VIABLE DECO SOLUTIONS LIMITED   \n",
       "1  Kenya Post Office Saving Bank                COMPUTERWAYS LIMITED   \n",
       "2  Kenya Post Office Saving Bank  REALISTIC SYSTEMS AND TECHNOLOGIES   \n",
       "3                           Embu    JIMRIVER CARGO LOGISTICS LIMITED   \n",
       "4    Higher Education Loan Board                   MATKY INVESTMENTS   \n",
       "\n",
       "   No. of B.O.I           Created At  \n",
       "0           NaN  2019-01-31 09:55:20  \n",
       "1           NaN  2019-02-19 10:14:13  \n",
       "2           NaN  2019-02-27 14:28:26  \n",
       "3           NaN  2019-03-15 10:03:54  \n",
       "4           NaN  2019-03-17 18:11:54  "
      ]
     },
     "execution_count": 2,
     "metadata": {},
     "output_type": "execute_result"
    }
   ],
   "source": [
    "# A function to load the data\n",
    "class LoadData():\n",
    "    def load_data(self,df):\n",
    "        self.df= pd.read_excel(df)\n",
    "        return self.df\n",
    "    \n",
    "data = LoadData()\n",
    "data_path = \"published_contracts.xlsx\"\n",
    "df = data.load_data(data_path)\n",
    "# Display teh first five rows in the dataset\n",
    "df.head()"
   ]
  },
  {
   "cell_type": "code",
   "execution_count": 3,
   "metadata": {},
   "outputs": [
    {
     "data": {
      "text/html": [
       "<div>\n",
       "<style scoped>\n",
       "    .dataframe tbody tr th:only-of-type {\n",
       "        vertical-align: middle;\n",
       "    }\n",
       "\n",
       "    .dataframe tbody tr th {\n",
       "        vertical-align: top;\n",
       "    }\n",
       "\n",
       "    .dataframe thead th {\n",
       "        text-align: right;\n",
       "    }\n",
       "</style>\n",
       "<table border=\"1\" class=\"dataframe\">\n",
       "  <thead>\n",
       "    <tr style=\"text-align: right;\">\n",
       "      <th></th>\n",
       "      <th>Contract Number</th>\n",
       "      <th>Amount</th>\n",
       "      <th>Award Date</th>\n",
       "      <th>Tender Title</th>\n",
       "      <th>Eval Completion Date</th>\n",
       "      <th>Notification Of Award Date</th>\n",
       "      <th>Sign Date</th>\n",
       "      <th>Start Date</th>\n",
       "      <th>End Date</th>\n",
       "      <th>Agpo Certificate Number</th>\n",
       "      <th>Awarded Agpo Group Id</th>\n",
       "      <th>Created By</th>\n",
       "      <th>Terminated</th>\n",
       "      <th>Financial Year</th>\n",
       "      <th>Quarter</th>\n",
       "      <th>Tender Ref.</th>\n",
       "      <th>PE Name</th>\n",
       "      <th>Supplier Name</th>\n",
       "      <th>No. of B.O.I</th>\n",
       "      <th>Created At</th>\n",
       "    </tr>\n",
       "  </thead>\n",
       "  <tbody>\n",
       "    <tr>\n",
       "      <th>0</th>\n",
       "      <td>0015.1</td>\n",
       "      <td>1962488.0</td>\n",
       "      <td>2018-09-26</td>\n",
       "      <td>Supply of Non Pharmaceuticals (Surgical Tubes,...</td>\n",
       "      <td>2018-09-25</td>\n",
       "      <td>2018-09-26</td>\n",
       "      <td>2018-09-26</td>\n",
       "      <td>2018-09-26</td>\n",
       "      <td>2018-10-25</td>\n",
       "      <td>NaN</td>\n",
       "      <td>NaN</td>\n",
       "      <td>1</td>\n",
       "      <td>NaN</td>\n",
       "      <td>2018/2019</td>\n",
       "      <td>Q1</td>\n",
       "      <td>KEMSA/ONT 06/2017-2019</td>\n",
       "      <td>Higher Education Loan Board</td>\n",
       "      <td>VIABLE DECO SOLUTIONS LIMITED</td>\n",
       "      <td>NaN</td>\n",
       "      <td>2019-01-31 09:55:20</td>\n",
       "    </tr>\n",
       "    <tr>\n",
       "      <th>1</th>\n",
       "      <td>38632</td>\n",
       "      <td>257736.0</td>\n",
       "      <td>2018-10-02</td>\n",
       "      <td>Supply of Non Pharmaceuticals (Surgical Tubes,...</td>\n",
       "      <td>2018-09-25</td>\n",
       "      <td>2018-10-04</td>\n",
       "      <td>2018-10-05</td>\n",
       "      <td>2018-10-08</td>\n",
       "      <td>2018-10-23</td>\n",
       "      <td>NaN</td>\n",
       "      <td>NaN</td>\n",
       "      <td>1</td>\n",
       "      <td>NaN</td>\n",
       "      <td>2018/2019</td>\n",
       "      <td>Q2</td>\n",
       "      <td>KEMSA/ONT 06/2017-2019</td>\n",
       "      <td>Kenya Post Office Saving Bank</td>\n",
       "      <td>COMPUTERWAYS LIMITED</td>\n",
       "      <td>NaN</td>\n",
       "      <td>2019-02-19 10:14:13</td>\n",
       "    </tr>\n",
       "    <tr>\n",
       "      <th>2</th>\n",
       "      <td>38631</td>\n",
       "      <td>254736.0</td>\n",
       "      <td>2018-09-25</td>\n",
       "      <td>Supply of Non Pharmaceuticals (Surgical Tubes,...</td>\n",
       "      <td>2018-09-19</td>\n",
       "      <td>2018-10-02</td>\n",
       "      <td>2018-10-05</td>\n",
       "      <td>2018-10-12</td>\n",
       "      <td>2018-11-12</td>\n",
       "      <td>NaN</td>\n",
       "      <td>NaN</td>\n",
       "      <td>1</td>\n",
       "      <td>NaN</td>\n",
       "      <td>2018/2019</td>\n",
       "      <td>Q1</td>\n",
       "      <td>KEMSA/ONT 06/2017-2019</td>\n",
       "      <td>Kenya Post Office Saving Bank</td>\n",
       "      <td>REALISTIC SYSTEMS AND TECHNOLOGIES</td>\n",
       "      <td>NaN</td>\n",
       "      <td>2019-02-27 14:28:26</td>\n",
       "    </tr>\n",
       "    <tr>\n",
       "      <th>3</th>\n",
       "      <td>0189</td>\n",
       "      <td>149300.0</td>\n",
       "      <td>2019-02-19</td>\n",
       "      <td>Supply of Non Pharmaceuticals (Surgical Tubes,...</td>\n",
       "      <td>2019-01-15</td>\n",
       "      <td>2019-02-07</td>\n",
       "      <td>2019-02-11</td>\n",
       "      <td>2019-02-11</td>\n",
       "      <td>2019-03-11</td>\n",
       "      <td>NaN</td>\n",
       "      <td>NaN</td>\n",
       "      <td>1</td>\n",
       "      <td>NaN</td>\n",
       "      <td>2018/2019</td>\n",
       "      <td>Q3</td>\n",
       "      <td>KEMSA/ONT 06/2017-2019</td>\n",
       "      <td>Embu</td>\n",
       "      <td>JIMRIVER CARGO LOGISTICS LIMITED</td>\n",
       "      <td>NaN</td>\n",
       "      <td>2019-03-15 10:03:54</td>\n",
       "    </tr>\n",
       "    <tr>\n",
       "      <th>4</th>\n",
       "      <td>LPO 1079.</td>\n",
       "      <td>81500.0</td>\n",
       "      <td>2018-12-27</td>\n",
       "      <td>Supply of Non Pharmaceuticals (Surgical Tubes,...</td>\n",
       "      <td>2018-12-27</td>\n",
       "      <td>2018-12-27</td>\n",
       "      <td>2018-12-27</td>\n",
       "      <td>2018-12-27</td>\n",
       "      <td>2019-01-26</td>\n",
       "      <td>NaN</td>\n",
       "      <td>NaN</td>\n",
       "      <td>1</td>\n",
       "      <td>NaN</td>\n",
       "      <td>2018/2019</td>\n",
       "      <td>Q2</td>\n",
       "      <td>KEMSA/ONT 06/2017-2019</td>\n",
       "      <td>Higher Education Loan Board</td>\n",
       "      <td>MATKY INVESTMENTS</td>\n",
       "      <td>NaN</td>\n",
       "      <td>2019-03-17 18:11:54</td>\n",
       "    </tr>\n",
       "  </tbody>\n",
       "</table>\n",
       "</div>"
      ],
      "text/plain": [
       "  Contract Number     Amount  Award Date  \\\n",
       "0          0015.1  1962488.0  2018-09-26   \n",
       "1           38632   257736.0  2018-10-02   \n",
       "2           38631   254736.0  2018-09-25   \n",
       "3            0189   149300.0  2019-02-19   \n",
       "4       LPO 1079.    81500.0  2018-12-27   \n",
       "\n",
       "                                        Tender Title Eval Completion Date  \\\n",
       "0  Supply of Non Pharmaceuticals (Surgical Tubes,...           2018-09-25   \n",
       "1  Supply of Non Pharmaceuticals (Surgical Tubes,...           2018-09-25   \n",
       "2  Supply of Non Pharmaceuticals (Surgical Tubes,...           2018-09-19   \n",
       "3  Supply of Non Pharmaceuticals (Surgical Tubes,...           2019-01-15   \n",
       "4  Supply of Non Pharmaceuticals (Surgical Tubes,...           2018-12-27   \n",
       "\n",
       "  Notification Of Award Date   Sign Date  Start Date    End Date  \\\n",
       "0                 2018-09-26  2018-09-26  2018-09-26  2018-10-25   \n",
       "1                 2018-10-04  2018-10-05  2018-10-08  2018-10-23   \n",
       "2                 2018-10-02  2018-10-05  2018-10-12  2018-11-12   \n",
       "3                 2019-02-07  2019-02-11  2019-02-11  2019-03-11   \n",
       "4                 2018-12-27  2018-12-27  2018-12-27  2019-01-26   \n",
       "\n",
       "  Agpo Certificate Number Awarded Agpo Group Id  Created By  Terminated  \\\n",
       "0                     NaN                   NaN           1         NaN   \n",
       "1                     NaN                   NaN           1         NaN   \n",
       "2                     NaN                   NaN           1         NaN   \n",
       "3                     NaN                   NaN           1         NaN   \n",
       "4                     NaN                   NaN           1         NaN   \n",
       "\n",
       "  Financial Year Quarter             Tender Ref.  \\\n",
       "0      2018/2019      Q1  KEMSA/ONT 06/2017-2019   \n",
       "1      2018/2019      Q2  KEMSA/ONT 06/2017-2019   \n",
       "2      2018/2019      Q1  KEMSA/ONT 06/2017-2019   \n",
       "3      2018/2019      Q3  KEMSA/ONT 06/2017-2019   \n",
       "4      2018/2019      Q2  KEMSA/ONT 06/2017-2019   \n",
       "\n",
       "                         PE Name                       Supplier Name  \\\n",
       "0    Higher Education Loan Board       VIABLE DECO SOLUTIONS LIMITED   \n",
       "1  Kenya Post Office Saving Bank                COMPUTERWAYS LIMITED   \n",
       "2  Kenya Post Office Saving Bank  REALISTIC SYSTEMS AND TECHNOLOGIES   \n",
       "3                           Embu    JIMRIVER CARGO LOGISTICS LIMITED   \n",
       "4    Higher Education Loan Board                   MATKY INVESTMENTS   \n",
       "\n",
       "   No. of B.O.I           Created At  \n",
       "0           NaN  2019-01-31 09:55:20  \n",
       "1           NaN  2019-02-19 10:14:13  \n",
       "2           NaN  2019-02-27 14:28:26  \n",
       "3           NaN  2019-03-15 10:03:54  \n",
       "4           NaN  2019-03-17 18:11:54  "
      ]
     },
     "execution_count": 3,
     "metadata": {},
     "output_type": "execute_result"
    }
   ],
   "source": [
    "class DataUndersatnding():\n",
    "  \n",
    "    def load_data(self, path):\n",
    "        self.df= pd.read_excel(path)\n",
    "        return self.df\n",
    "    \n",
    "    def data_understanding(self, df):\n",
    "        \"\"\"Provides the understanding of the dataset\"\"\"\n",
    "        # Dataset Info\n",
    "        print(\"INFO\")\n",
    "        print(\"-\"*4)\n",
    "        self.df.info()\n",
    "\n",
    "        # Shape of the dataset\n",
    "        print(\"\\n\\nSHAPE\")\n",
    "        print(\"-\" * 4)\n",
    "        self.df.shape\n",
    "        print(f\"Records in the dataset:{self.df.shape[0]}, and columns in the dataset:{self.df.shape[1]}\")\n",
    "\n",
    "        # Columns in the Dataset\n",
    "        print(\"COLUMNS\")\n",
    "        print(\"-\" * 4)\n",
    "        self.df.columns\n",
    "        print(f\"Number of columns in the dataset{len(self.df.shape)}\")\n",
    "\n",
    "        \n",
    "        #Unique values in the dataset\n",
    "        print(\"\\n\\nUNIQUE VALUES\")\n",
    "        print(\"-\" * 12)\n",
    "        for col in self.df.columns:\n",
    "            print(f\"Column {col} has {self.df[col].nunique()} unique values\")\n",
    "            if self.df[col].nunique() < 12:\n",
    "                print(f\"Top unique values in {col} include:\")\n",
    "                for idx in self.df[col].value_counts().index:\n",
    "                    print(f\"- {idx}\")\n",
    "            print(\"\")\n",
    "        # Missing values in the Dataset\n",
    "        print(\"\\nMISSING\")\n",
    "        print(\"-\" * 10)\n",
    "        self.df.isna().sum()\n",
    "\n",
    "        #Duplicate Values in the dataset\n",
    "        print(\"\\nDuplicate values in the Dataset\")\n",
    "        print(\"- \"* 4)\n",
    "        print(f\"The dataset has {self.df.duplicated().sum()} duplicated records.\")\n",
    "# Initialize the Data Understanding Class\n",
    "\n",
    "data = DataUndersatnding()\n",
    "path =\"published_contracts.xlsx\"\n",
    "df = data.load_data(path)\n",
    "df.head()\n",
    "        \n"
   ]
  },
  {
   "cell_type": "code",
   "execution_count": 5,
   "metadata": {},
   "outputs": [
    {
     "name": "stdout",
     "output_type": "stream",
     "text": [
      "INFO\n",
      "----\n",
      "<class 'pandas.core.frame.DataFrame'>\n",
      "RangeIndex: 81549 entries, 0 to 81548\n",
      "Data columns (total 20 columns):\n",
      " #   Column                      Non-Null Count  Dtype  \n",
      "---  ------                      --------------  -----  \n",
      " 0   Contract Number             81477 non-null  object \n",
      " 1   Amount                      80715 non-null  float64\n",
      " 2   Award Date                  81549 non-null  object \n",
      " 3   Tender Title                81534 non-null  object \n",
      " 4   Eval Completion Date        81549 non-null  object \n",
      " 5   Notification Of Award Date  81549 non-null  object \n",
      " 6   Sign Date                   69038 non-null  object \n",
      " 7   Start Date                  80561 non-null  object \n",
      " 8   End Date                    80537 non-null  object \n",
      " 9   Agpo Certificate Number     25006 non-null  object \n",
      " 10  Awarded Agpo Group Id       24055 non-null  object \n",
      " 11  Created By                  81549 non-null  int64  \n",
      " 12  Terminated                  87 non-null     float64\n",
      " 13  Financial Year              81549 non-null  object \n",
      " 14  Quarter                     78054 non-null  object \n",
      " 15  Tender Ref.                 81534 non-null  object \n",
      " 16  PE Name                     81549 non-null  object \n",
      " 17  Supplier Name               81549 non-null  object \n",
      " 18  No. of B.O.I                14556 non-null  float64\n",
      " 19  Created At                  47593 non-null  object \n",
      "dtypes: float64(3), int64(1), object(16)\n",
      "memory usage: 12.4+ MB\n",
      "\n",
      "\n",
      "SHAPE\n",
      "----\n",
      "Records in the dataset:81549, and columns in the dataset:20\n",
      "COLUMNS\n",
      "----\n",
      "Number of columns in the dataset2\n",
      "\n",
      "\n",
      "UNIQUE VALUES\n",
      "------------\n",
      "Column Contract Number has 65631 unique values\n",
      "\n",
      "Column Amount has 50047 unique values\n",
      "\n",
      "Column Award Date has 2313 unique values\n",
      "\n",
      "Column Tender Title has 58024 unique values\n",
      "\n",
      "Column Eval Completion Date has 2406 unique values\n",
      "\n",
      "Column Notification Of Award Date has 2357 unique values\n",
      "\n",
      "Column Sign Date has 2304 unique values\n",
      "\n",
      "Column Start Date has 2458 unique values\n",
      "\n",
      "Column End Date has 3125 unique values\n",
      "\n",
      "Column Agpo Certificate Number has 13413 unique values\n",
      "\n",
      "Column Awarded Agpo Group Id has 4 unique values\n",
      "Top unique values in Awarded Agpo Group Id include:\n",
      "- Women\n",
      "- Youth\n",
      "- All (Youth, Women, PWD)\n",
      "- People with disabilities\n",
      "\n",
      "Column Created By has 1363 unique values\n",
      "\n",
      "Column Terminated has 1 unique values\n",
      "Top unique values in Terminated include:\n",
      "- 1.0\n",
      "\n",
      "Column Financial Year has 15 unique values\n",
      "\n",
      "Column Quarter has 4 unique values\n",
      "Top unique values in Quarter include:\n",
      "- Q3\n",
      "- Q4\n",
      "- Q2\n",
      "- Q1\n",
      "\n",
      "Column Tender Ref. has 69141 unique values\n",
      "\n",
      "Column PE Name has 496 unique values\n",
      "\n",
      "Column Supplier Name has 25196 unique values\n",
      "\n",
      "Column No. of B.O.I has 18 unique values\n",
      "\n",
      "Column Created At has 47482 unique values\n",
      "\n",
      "\n",
      "MISSING\n",
      "----------\n",
      "\n",
      "Duplicate values in the Dataset\n",
      "- - - - \n",
      "The dataset has 134 duplicated records.\n"
     ]
    }
   ],
   "source": [
    "# Call the data understanding function\n",
    "data.data_understanding(df)"
   ]
  },
  {
   "cell_type": "markdown",
   "metadata": {},
   "source": [
    "### Dataset Summary\n",
    "\n",
    "The dataset contains 81,549 records and 20 columns with information related to contracts, tenders, suppliers, and awards. Here's a breakdown:\n",
    "\n",
    "**Key Data Features:**\n",
    "\n",
    "- Contract Information: Includes contract numbers, amounts, and tender references.\n",
    "- Dates: Award, evaluation, and signing dates are present.\n",
    "- Supplier Information: Supplier names, PE (Procuring Entity) names, and AGPO (Access to Government Procurement Opportunities) group identification.\n",
    "- Award and Financial Details: Contract amounts, termination details, and financial year.\n",
    "\n",
    "**Unique Values:**\n",
    "\n",
    "- Contract Number: 65,631 unique contract numbers, indicating many distinct contracts.\n",
    "- Amount: 50,047 unique values.\n",
    "- Tender Title: 58,024 unique tender titles.\n",
    "- Quarter & Financial Year: Information categorized by fiscal years and quarters.\n",
    "\n",
    "**Missing Data:**\n",
    "\n",
    "Several columns have missing values, such as Sign Date, Start Date, End Date, and Agpo Certificate Number, indicating incomplete data in many contracts.\n",
    "Terminated column has very few entries, with only one unique value.\n",
    "\n",
    "**AGPO Representation:**\n",
    "\n",
    "\n",
    "Categories include Women, Youth, People with Disabilities (PWD), and All (Youth, Women, PWD)."
   ]
  },
  {
   "cell_type": "markdown",
   "metadata": {},
   "source": [
    "## 3. Data Preparation"
   ]
  },
  {
   "cell_type": "markdown",
   "metadata": {},
   "source": [
    "### 3.1 Data Cleaning"
   ]
  },
  {
   "cell_type": "markdown",
   "metadata": {},
   "source": [
    "#### Identify missing value in the dataset"
   ]
  },
  {
   "cell_type": "code",
   "execution_count": 4,
   "metadata": {},
   "outputs": [
    {
     "name": "stdout",
     "output_type": "stream",
     "text": [
      "Contract Number                  72\n",
      "Amount                          834\n",
      "Award Date                        0\n",
      "Tender Title                     15\n",
      "Eval Completion Date              0\n",
      "Notification Of Award Date        0\n",
      "Sign Date                     12511\n",
      "Start Date                      988\n",
      "End Date                       1012\n",
      "Agpo Certificate Number       56543\n",
      "Awarded Agpo Group Id         57494\n",
      "Created By                        0\n",
      "Terminated                    81462\n",
      "Financial Year                    0\n",
      "Quarter                        3495\n",
      "Tender Ref.                      15\n",
      "PE Name                           0\n",
      "Supplier Name                     0\n",
      "No. of B.O.I                  66993\n",
      "Created At                    33956\n",
      "dtype: int64\n"
     ]
    }
   ],
   "source": [
    "# handling missing data\n",
    "print(df.isna().sum())"
   ]
  },
  {
   "cell_type": "markdown",
   "metadata": {},
   "source": [
    "THe dataset has no missing value"
   ]
  },
  {
   "cell_type": "markdown",
   "metadata": {},
   "source": [
    "#### Checking for duplicates in the Dataset"
   ]
  },
  {
   "cell_type": "code",
   "execution_count": 7,
   "metadata": {},
   "outputs": [
    {
     "name": "stdout",
     "output_type": "stream",
     "text": [
      "134\n"
     ]
    }
   ],
   "source": [
    "print(df.duplicated().sum())"
   ]
  },
  {
   "cell_type": "markdown",
   "metadata": {},
   "source": [
    "The dataset has no duplicate values"
   ]
  },
  {
   "cell_type": "code",
   "execution_count": 18,
   "metadata": {},
   "outputs": [
    {
     "data": {
      "text/html": [
       "<div>\n",
       "<style scoped>\n",
       "    .dataframe tbody tr th:only-of-type {\n",
       "        vertical-align: middle;\n",
       "    }\n",
       "\n",
       "    .dataframe tbody tr th {\n",
       "        vertical-align: top;\n",
       "    }\n",
       "\n",
       "    .dataframe thead th {\n",
       "        text-align: right;\n",
       "    }\n",
       "</style>\n",
       "<table border=\"1\" class=\"dataframe\">\n",
       "  <thead>\n",
       "    <tr style=\"text-align: right;\">\n",
       "      <th></th>\n",
       "      <th>step</th>\n",
       "      <th>amount</th>\n",
       "      <th>oldbalanceOrg</th>\n",
       "      <th>newbalanceOrig</th>\n",
       "      <th>oldbalanceDest</th>\n",
       "      <th>newbalanceDest</th>\n",
       "      <th>isFraud</th>\n",
       "      <th>isFlaggedFraud</th>\n",
       "    </tr>\n",
       "  </thead>\n",
       "  <tbody>\n",
       "    <tr>\n",
       "      <th>0</th>\n",
       "      <td>1</td>\n",
       "      <td>9839.64</td>\n",
       "      <td>170136.0</td>\n",
       "      <td>160296.36</td>\n",
       "      <td>0.0</td>\n",
       "      <td>0.0</td>\n",
       "      <td>0</td>\n",
       "      <td>0</td>\n",
       "    </tr>\n",
       "    <tr>\n",
       "      <th>1</th>\n",
       "      <td>1</td>\n",
       "      <td>1864.28</td>\n",
       "      <td>21249.0</td>\n",
       "      <td>19384.72</td>\n",
       "      <td>0.0</td>\n",
       "      <td>0.0</td>\n",
       "      <td>0</td>\n",
       "      <td>0</td>\n",
       "    </tr>\n",
       "    <tr>\n",
       "      <th>4</th>\n",
       "      <td>1</td>\n",
       "      <td>11668.14</td>\n",
       "      <td>41554.0</td>\n",
       "      <td>29885.86</td>\n",
       "      <td>0.0</td>\n",
       "      <td>0.0</td>\n",
       "      <td>0</td>\n",
       "      <td>0</td>\n",
       "    </tr>\n",
       "    <tr>\n",
       "      <th>5</th>\n",
       "      <td>1</td>\n",
       "      <td>7817.71</td>\n",
       "      <td>53860.0</td>\n",
       "      <td>46042.29</td>\n",
       "      <td>0.0</td>\n",
       "      <td>0.0</td>\n",
       "      <td>0</td>\n",
       "      <td>0</td>\n",
       "    </tr>\n",
       "    <tr>\n",
       "      <th>6</th>\n",
       "      <td>1</td>\n",
       "      <td>7107.77</td>\n",
       "      <td>183195.0</td>\n",
       "      <td>176087.23</td>\n",
       "      <td>0.0</td>\n",
       "      <td>0.0</td>\n",
       "      <td>0</td>\n",
       "      <td>0</td>\n",
       "    </tr>\n",
       "  </tbody>\n",
       "</table>\n",
       "</div>"
      ],
      "text/plain": [
       "   step    amount  oldbalanceOrg  newbalanceOrig  oldbalanceDest  \\\n",
       "0     1   9839.64       170136.0       160296.36             0.0   \n",
       "1     1   1864.28        21249.0        19384.72             0.0   \n",
       "4     1  11668.14        41554.0        29885.86             0.0   \n",
       "5     1   7817.71        53860.0        46042.29             0.0   \n",
       "6     1   7107.77       183195.0       176087.23             0.0   \n",
       "\n",
       "   newbalanceDest  isFraud  isFlaggedFraud  \n",
       "0             0.0        0               0  \n",
       "1             0.0        0               0  \n",
       "4             0.0        0               0  \n",
       "5             0.0        0               0  \n",
       "6             0.0        0               0  "
      ]
     },
     "execution_count": 18,
     "metadata": {},
     "output_type": "execute_result"
    }
   ],
   "source": [
    "# Outlier detection and removal\n",
    "class OutlierDetection():\n",
    "    def __init__(self):\n",
    "        pass\n",
    "\n",
    "    def detect_outliers(self, df):\n",
    "        self.df = df\n",
    "        self.df = self.df.select_dtypes(include=[np.number])\n",
    "        # self.df = self.df.dropna()\n",
    "        self.z_scores = (self.df - self.df.mean()) / self.df.std()\n",
    "        self.z_scores = self.z_scores.abs()\n",
    "        self.df = self.df[(self.z_scores < 3).all(axis=1)]\n",
    "        return self.df\n",
    "outlier = OutlierDetection()\n",
    "df = outlier.detect_outliers(df)\n",
    "df.head()"
   ]
  },
  {
   "cell_type": "code",
   "execution_count": 24,
   "metadata": {},
   "outputs": [
    {
     "name": "stdout",
     "output_type": "stream",
     "text": [
      "\n",
      "Number of fraudulent transactions: 0\n",
      "Average fraudulent transaction amount: nan\n",
      "Average non-fraudulent transaction amount: 144697.34\n"
     ]
    }
   ],
   "source": [
    "# Fraud statistics\n",
    "fraud_count = df['isFraud'].sum()\n",
    "print(f\"\\nNumber of fraudulent transactions: {fraud_count}\")\n",
    "\n",
    "avg_amount_fraud = df[df['isFraud'] == 1]['amount'].mean()\n",
    "avg_amount_non_fraud = df[df['isFraud'] == 0]['amount'].mean()\n",
    "print(f\"Average fraudulent transaction amount: {avg_amount_fraud:.2f}\")\n",
    "print(f\"Average non-fraudulent transaction amount: {avg_amount_non_fraud:.2f}\")"
   ]
  },
  {
   "cell_type": "markdown",
   "metadata": {},
   "source": [
    "### 3.2 Explanatory Data Analysis"
   ]
  },
  {
   "cell_type": "markdown",
   "metadata": {},
   "source": [
    "#### Histogram"
   ]
  },
  {
   "cell_type": "code",
   "execution_count": 22,
   "metadata": {},
   "outputs": [
    {
     "data": {
      "text/plain": [
       "array([[<Axes: title={'center': 'step'}>,\n",
       "        <Axes: title={'center': 'amount'}>,\n",
       "        <Axes: title={'center': 'oldbalanceOrg'}>],\n",
       "       [<Axes: title={'center': 'newbalanceOrig'}>,\n",
       "        <Axes: title={'center': 'oldbalanceDest'}>,\n",
       "        <Axes: title={'center': 'newbalanceDest'}>],\n",
       "       [<Axes: title={'center': 'isFraud'}>,\n",
       "        <Axes: title={'center': 'isFlaggedFraud'}>, <Axes: >]],\n",
       "      dtype=object)"
      ]
     },
     "execution_count": 22,
     "metadata": {},
     "output_type": "execute_result"
    },
    {
     "data": {
      "image/png": "[encoded data removed]",
      "text/plain": [
       "<Figure size 640x480 with 9 Axes>"
      ]
     },
     "metadata": {},
     "output_type": "display_data"
    }
   ],
   "source": [
    "df.hist()"
   ]
  },
  {
   "cell_type": "markdown",
   "metadata": {},
   "source": []
  },
  {
   "cell_type": "markdown",
   "metadata": {},
   "source": [
    "## 4. Modelling"
   ]
  },
  {
   "cell_type": "code",
   "execution_count": null,
   "metadata": {},
   "outputs": [
    {
     "ename": "",
     "evalue": "",
     "output_type": "error",
     "traceback": [
      "\u001b[1;31mnotebook controller is DISPOSED. \n",
      "\u001b[1;31mView Jupyter <a href='command:jupyter.viewOutput'>log</a> for further details."
     ]
    },
    {
     "ename": "",
     "evalue": "",
     "output_type": "error",
     "traceback": [
      "\u001b[1;31mnotebook controller is DISPOSED. \n",
      "\u001b[1;31mView Jupyter <a href='command:jupyter.viewOutput'>log</a> for further details."
     ]
    }
   ],
   "source": []
  },
  {
   "cell_type": "markdown",
   "metadata": {},
   "source": [
    "## 5. Conclusion"
   ]
  },
  {
   "cell_type": "markdown",
   "metadata": {},
   "source": [
    "## 6. Recommendations"
   ]
  },
  {
   "cell_type": "markdown",
   "metadata": {},
   "source": [
    "## 7. Next Steps"
   ]
  },
  {
   "cell_type": "code",
   "execution_count": null,
   "metadata": {},
   "outputs": [
    {
     "ename": "",
     "evalue": "",
     "output_type": "error",
     "traceback": [
      "\u001b[1;31mnotebook controller is DISPOSED. \n",
      "\u001b[1;31mView Jupyter <a href='command:jupyter.viewOutput'>log</a> for further details."
     ]
    },
    {
     "ename": "",
     "evalue": "",
     "output_type": "error",
     "traceback": [
      "\u001b[1;31mnotebook controller is DISPOSED. \n",
      "\u001b[1;31mView Jupyter <a href='command:jupyter.viewOutput'>log</a> for further details."
     ]
    }
   ],
   "source": []
  }
 ],
 "metadata": {
  "kernelspec": {
   "display_name": "base",
   "language": "python",
   "name": "python3"
  },
  "language_info": {
   "codemirror_mode": {
    "name": "ipython",
    "version": 3
   },
   "file_extension": ".py",
   "mimetype": "text/x-python",
   "name": "python",
   "nbconvert_exporter": "python",
   "pygments_lexer": "ipython3",
   "version": "3.12.4"
  }
 },
 "nbformat": 4,
 "nbformat_minor": 2
}
